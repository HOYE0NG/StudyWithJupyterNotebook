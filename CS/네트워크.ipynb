{
 "cells": [
  {
   "cell_type": "markdown",
   "id": "b810fe82",
   "metadata": {},
   "source": [
    "### OSI 7계층\n",
    "네트워크 통신 과정을 계층별로 \"개념화\"한 모델이다. 통신이 일어나는 과정을 단계별로 파악할 수 있어 문제 해결이 용이하다.\n",
    "\n",
    "### TCP/IP 4계층\n",
    "개념적 모델이 아니라 실제 인터넷에서 사용되는 모델로 TCP와 IP를 중심으로한 프로토콜 스택을 설명하는 계층 모델이다.\n",
    "\n",
    "#### 응용 계층 (Application)\n",
    "사용자가 네트워크에 접근할 수 있도록 하는 인터페이스를 제공하는 계층.\n",
    "\n",
    "#### 표현 계층 (Presentation)\n",
    "데이터를 번역하고, 압축하고, 암호화하는 계층.\n",
    "\n",
    "#### 세션 계층 (Session)\n",
    "컴퓨터가 연결될 때 인증, 허가 기능과 세션복구 기능을 하는 계층.\n",
    "\n",
    "#### 전송 계층 (Transport)\n",
    "데이터를 쪼개고(Segmentation) 순번을 붙이고 포트 번호(어플리케이션 구분용)를 붙이고 전송 방식을 결정하는 계층. 컴퓨터 속도 차이 조정, 에러 컨트롤\n",
    "- TCP 안정성 높지만 느림. 파일 전송.\n",
    "- UDP 안정성 낮지만 빠름. 온라인 게임.\n",
    "\n",
    "#### 네트워크 계층 (Network)\n",
    "라우팅으로 경로를 선택해서 패킷을 전송하는 계층.\n",
    "\n",
    "#### 데이터링크 계층 (Data Link)\n",
    "MAC 주소(컴퓨터 주소)를 부여하고 통신의 흐름을 관리하는 계층.\n",
    "\n",
    "#### 물리 계층 (Physical)\n",
    "이진 데이터를 전기 신호로 변환하여 전송하는 계층."
   ]
  },
  {
   "cell_type": "markdown",
   "id": "196e5160",
   "metadata": {},
   "source": [
    "\n",
    "### 프로토콜\n",
    "메세지를 주고 받기 위한 표준화된 통신 규칙 체계\n",
    "\n",
    "### PDU (Process Data Unit)\n",
    "각 계층에서 전송되는 단위.\n",
    "- Application, Presentation, Session : Data\n",
    "- Transport : Segments\n",
    "- Network : Packets\n",
    "- Data Link : Frames\n",
    "- Physical : Bits\n"
   ]
  },
  {
   "cell_type": "markdown",
   "id": "6494a95b",
   "metadata": {},
   "source": [
    "### google.com 을 입력하면 발생하는 일을 OSI 7계층과 관련지어 설명하시오.\n",
    "먼저 Application 계층에서 사용자가 URL을 입력하면 브라우저가 파싱한 뒤 DNS 룩업 과정을 거친다. 이 때 브라우저 캐시 -> OS 캐시 -> hosts 파일 -> DNS 서버 순으로 IP 주소를 탐색한다. IP 주소를 얻은 브라우저는 Transport 계층에서 소켓을 생성하고 TCP를 사용하여 3-way 핸드셰이크를 수행한다. 만약 이 때 https라면 SSL/TLS 핸드셰이크 과정이 Presentation 계층에서 수행된다. 통신이 열리면 브라우저는 HTTP 요청을 TCP 소켓을 통해 보낸다. 이 요청은 Transport 계층에서 세그먼트로 분할되고 Network 계층에서 IP 패킷으로 캡슐화된 후 라우팅을 통해 경로가 설정된다. 패킷은 Data Link에서 프레임으로 캡슐화 되고 이때 MAC 주소를 부여받는다. Physical 계층에서는 다시 전기 신호로 변환되어 실제 네트워크를 통해 전송된다."
   ]
  },
  {
   "cell_type": "markdown",
   "id": "1dfea001",
   "metadata": {},
   "source": [
    "### TCP, UDP 차이에 대해 설명하시오.\n",
    "TCP는 연결 지향형 프로토콜이고 UDP는 데이터를 데이터그램 단위로 전송하는 프로토콜이다. TCP는 가상 회선을 만들어 신뢰성을 보장하도록 하는데 이 때문에 신뢰성 보장 절차가 없는 UDP에 비해 안정성은 높지만 속도가 느리다. 따라서 TCP는 파일 전송과 같은 신뢰성이 중요한 서비스에 사용되고, UDP는 스트리밍과 같이 연속성이 중요한 서비스에 사용된다."
   ]
  },
  {
   "cell_type": "markdown",
   "id": "a7dbda5d",
   "metadata": {},
   "source": [
    "### TCP 3,4 handshake에 대해 설명하시오.\n",
    "3 way handshake는 연결을 수립하는 단계이다. SYN 패킷을 보내면 SYN+ACK을 받고 다시 ACK를 보내면 연결이 시작된다.\n",
    "\n",
    "4 way handshake는 연결을 해제하는 단계이다. FIN 플래그를 보내면 서버는 ACK를 보내고 통신이 끝날 때 까지 기다렸다가 통신이 끝나면 FIN 플래그를 보낸다. 이를 받은 클라이언트는 ACK를 보내면 끝난다."
   ]
  },
  {
   "cell_type": "markdown",
   "id": "41028cf0",
   "metadata": {},
   "source": [
    "### HTTP와 HTTPS의 차이점에 대해 설명하시오.\n",
    "HTTP는 암호화 과정을 거치지 않기 때문에 중간에 패킷을 가로챌 수 있고 수정할 수 있는 위험이 있기 때문에 보안이 취약하다. 이를 보완하기 위해 HTTPS는 중간에 암호화 계층을 거쳐서 패킷을 암호화한다. 이 때 SSL->TLS 프로토콜(인증서)를 이용해서 패킷을 암호화한다. HTTPS는 제 3자 인증, 공개키 암호화, 비밀키 암호화를 사용한다."
   ]
  },
  {
   "cell_type": "markdown",
   "id": "18d7a26b",
   "metadata": {},
   "source": [
    "### HTTP 메소드에 대해 설명하시오.\n",
    "get은 서버에 데이터를 요청하는 것이다. 요청 body는 입력하지 않는 것이 일반적이다.\n",
    "post는 서버에 데이터를 생성하는 것이다. 요청 body에 담아 전송한다.\n",
    "put은 서버에 데이터를 수정하거나 존재하지 않으면 생성하는 것이다.\n",
    "delete는 서버에 데이터를 삭제하는 것이다."
   ]
  },
  {
   "cell_type": "markdown",
   "id": "3a51ea6b",
   "metadata": {},
   "source": [
    "### RESTful API란 무엇인지 설명하시오.\n",
    "REST는 HTTP URI를 통해 자원을 표시하고, HTTP Method를 통해 자원에 대한 처리를 표현해서 서버와 클라이언트가 통신하는 방식으로 HTTP 프로토콜을 그대로 이용하기 때문에 별도의 통신 구축이 필요없는 아키텍처 스타일이다. REST 기반으로 서비스 API를 구현한 것이 RESTful API이다. 읽었을 때 이해하기 쉽게 작성해서 API 이해도를 높이는 것이 목적이다. CRUD 기능을 POST로만 처리하는 API는 RESTful 하지 않다."
   ]
  },
  {
   "cell_type": "markdown",
   "id": "39668ebd",
   "metadata": {},
   "source": [
    "### CORS (Cross-Origin Resource Sharing) 란 무엇인지 설명하시오.\n",
    "추가 HTTP 헤더를 이용하여, 한 출처에서 실행 중인 웹 애플리케이션이 다른 출처의 선택한 자원에 접근할 수 있는 권한을 부여하도록 브라우저에게 알려주는 체제를 의미한다. 출처(Protocol, Host, Port)가 다른 리소스를 사용하는 것을 제한하는 것을 SOP(Same Origin Policy)라고 한다. 브라우저는 SOP를 지켜서 다른 출처의 리소스 접근을 금지한다.\n",
    "- Simple request\n",
    "서버에 바로 요청을 보내는 방법. 서버는 Access-Control-Allow-Origin 헤더를 포함한 응답을 브라우저에게 보낸다.\n",
    "- Preflight request\n",
    "OPTIONS 메서드로 서버에 예비 요청을 보내 안전한지 확인한 후, 다시 본 요청을 보낸다."
   ]
  }
 ],
 "metadata": {
  "kernelspec": {
   "display_name": "JavaScript (Node.js)",
   "language": "javascript",
   "name": "javascript"
  },
  "language_info": {
   "file_extension": ".js",
   "mimetype": "application/javascript",
   "name": "javascript",
   "version": "16.19.1"
  }
 },
 "nbformat": 4,
 "nbformat_minor": 5
}
