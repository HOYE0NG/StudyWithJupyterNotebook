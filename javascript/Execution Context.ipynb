{
 "cells": [
  {
   "cell_type": "markdown",
   "id": "0069754c",
   "metadata": {},
   "source": [
    "# 실행 컨텍스트(Execution Context)\n",
    "자바스크립트 코드가 실행되는 환경 정보를 모아놓은 객체를 의미하며 코드의 실행을 관리하고 특정 변수 및 함수가 접근할 수 있는 범위(Scope)를 결정한다. 자바스크립트는 동일한 환경에 있는 환경 정보들을 모은 실행 컨텍스트를 콜스택에 쌓아올린 후 실행하여 코드의 환경과 순서를 보장한다. 콜스택의 가장 위에 쌓인 실행 컨텍스트만 활성화되고 나머지는 잠시 비활성화된다.\n",
    "\n",
    "#코드를 실행하는데 필요한 환경을 제공하는 객체.\n",
    "#식별자를 더욱 효율적으로 결정하기 위한 수단.\n",
    "\n",
    "### 자바 스크립트 실행 과정\n",
    "1. 전역 실행 컨텍스트 생성\n",
    "2. 함수 실행 컨텍스트 생성\n",
    "#### 생성 단계 (Creation Phase)\n",
    "실행 컨텍스트를 생성하는 단계. 선언문만 실행해서 환경 레코드에 기록한다.\n",
    "\n",
    "#### 실행 단계 (Execution Phase)\n",
    "선언문 외 나머지 코드를 순차적으로 실행하는 단계. 필요한 경우 환경 레코드를 참조하거나 업데이트한다.\n",
    "\n",
    "### 변수가 저장되는 과정\n",
    "1. 선언\n",
    "메모리 공간을 확보하고 식별자와 연결하는 단계.\n",
    "2. 초기화\n",
    "식별자에 암묵적으로 undefined 값을 바인딩하는 단계.\n",
    "3. 할당\n",
    "식별자에 해당하는 값을 바인딩하는 단계\n",
    "\n",
    "### 일시적 사각지대 (Temporal Dead Zone)\n",
    "let, const로 선언했을 때, 선언 이전에 식별자를 참조할 수 없는 구역을 의미한다. var와 달리 let과 const는 선언만 되고 초기화되지 않기 때문에 TDZ에서는 Reference Error가 발생한다.\n",
    "\n",
    "### 호이스팅\n",
    "\n",
    "#### 변수 호이스팅\n",
    "변수가 마치 최상단에 끌어올려져 선언된 것처럼 작동하는 것을 의미한다. 이는 자바스크립트가 실행 컨텍스트를 생성하면서 환경 레코드에 변수를 기록하기 때문에 발생한다.\n",
    "#### 함수 호이스팅\n",
    "함수 선언문과 달리 함수 표현식으로 변수에 함수를 선언하면 이는 변수와 같이 동작하기 때문에 TDZ에서 var는 Type Error, let, const는 Reference Error가 발생한다.\n",
    "\n",
    "\n",
    "### 환경 레코드 (Environment Record)\n",
    "식별자와 식별자에 바인딩된 값을 기록하는 레코드\n",
    "\n",
    "### 외부 환경 참조 (Outer Environment Reference)\n",
    "자바스크립트 엔진이 이전 실행 콘텍스트 렉시컬 환경으로 돌아갈 수 있게 도와주는 사다리 같은 것이다.\n",
    "\n",
    "### 정적 환경 (Lexcial Environment)\n",
    "실행 컨텍스트 내부에서 존재하는 환경 레코드(Record)와 아우터를 합친 것을 정적 환경 또는 렉시컬 환경이라고 한다.\n",
    "\n",
    "### 식별자 결정 (Identifier Resolution)\n",
    "코드에서 변수나 함수의 값을 결정하는 것이다.\n",
    "\n",
    "### 변수 섀도잉 (Variable Shadowing)\n",
    "동일한 식별자로 인해 상위 스코프에서 선언된 식별자의 값이 가려지는 현상.\n",
    "\n",
    "### 스코프 체인 (Scope Chain)\n",
    "식별자를 결정할 때 활용하는 스코프들의 연결리스트\n",
    "\n",
    "### 스코프 체이닝 (Scope Chaining)\n",
    "스코프 체인을 타고 내려가 식별자를 결정하는 과정\n",
    "\n"
   ]
  },
  {
   "cell_type": "code",
   "execution_count": null,
   "id": "808a0c67",
   "metadata": {},
   "outputs": [],
   "source": []
  }
 ],
 "metadata": {
  "kernelspec": {
   "display_name": "JavaScript (Node.js)",
   "language": "javascript",
   "name": "javascript"
  },
  "language_info": {
   "file_extension": ".js",
   "mimetype": "application/javascript",
   "name": "javascript",
   "version": "16.19.1"
  }
 },
 "nbformat": 4,
 "nbformat_minor": 5
}
