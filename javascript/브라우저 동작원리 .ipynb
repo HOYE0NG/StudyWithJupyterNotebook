{
 "cells": [
  {
   "cell_type": "markdown",
   "id": "d9610c15",
   "metadata": {},
   "source": [
    "### 웹 브라우저\n",
    "웹에서 HTML, CSS, JAVASCRIPT를 해석해주는 엔진. HTTP 프로토콜을 이용해 데이터를 송수신한다.\n",
    "\n",
    "### 동작원리\n",
    "브라우저는 사용자가 선택한 자원을 서버에 요청(Request)하고, 서버로부터 받은 응답(Response)을 렌더링(Rendering)한다. 자원의 주소는 URI(Uniform Resource Identifier)로 되어있다.\n",
    "\n",
    "> URI vs URL\n",
    "URI는 자원을 식별하는 문자열이고, URL은 자원의 위치를 나타내는 URI의 하위 집합이다. 보통 우리가 생각하는 웹페이지의 주소는 URL이다.\n",
    ">>URI O, URL O : https://google.com/index.html (실제 주소를 가리킴)\n",
    "URI O, URL X : https://google.com/index (실제 주소가 아니지만 내부적으로 index.html을 가리키기 때문에 URI는 맞고 URL은 아님.\n",
    "\n"
   ]
  },
  {
   "cell_type": "markdown",
   "id": "2b05fe7d",
   "metadata": {},
   "source": [
    "### www.google.com 을 입력하면 일어나는 과정\n",
    "1. 입력한 URL 주소 중, 도메인에 해당하는 \"google.com\" 을 DNS 서버에서 해당하는 IP 주소를 검색한다. \n",
    "- 캐싱된 DNS 기록이 있으면 DNS 서버에 요청하지 않고 해당하는 IP 주소를 바로 반환한다.\n",
    "- 가장 가까운 DNS 서버부터 해당하는 IP 주소를 찾기 위해 DNS query를 전달하는데 해당 DNS 서버에 IP 주소가 존재하지 않으면 다른 DNS 서버로 이동하여 찾는 과정을 반복한다.\n",
    "2. IP 주소를 웹 브라우저가 전달받고 해당 IP 주소로 웹 서버에 접속한다.\n",
    "- 웹 서버와 브라우저는 TCP 3 Way-Handshake를 통해 연결한 뒤, 브라우저가 HTTP Request 를 전송한다. 웹 서버는 Request를 받은 뒤 Response를 생성하여 전송한다.\n",
    "3. 전달받은 HTML 문서를 브라우저가 렌더링한다."
   ]
  },
  {
   "cell_type": "markdown",
   "id": "62d28144",
   "metadata": {},
   "source": [
    "### 웹 서버 vs 웹 어플리케이션 서버(WAS)\n",
    "웹 서버는 클라이언트로부터 받은 요청에 대해 정적인 콘텐츠를 제공하는 역할이다. 동적인 요청이 들어오면 WAS로 해당 요청을 넘겨서 DB와 함께 로직을 처리한다. 이렇게 하는 이유는 서버의 과부하를 방지하기 위함이다.\n",
    "\n",
    "### TCP 3 Way-Handshake (Open)\n",
    "1. 클라이언트가 서버로 접속을 요청하는 SYN 패킷을 전송한다.\n",
    "2. 서버가 클라이언트로 요청을 수락한다는 SYN ACK 를 전송한다.\n",
    "3. 클라이언트가 서버로 ACK를 전송하면 연결이 이루어진다.\n",
    "\n",
    "### TCP 4 Way-Handshake (Close)\n",
    "1. 클라이언트가 서버로 연결을 종료한다는 FIN 플래그를 전송한다.\n",
    "2. 서버가 클라이언트로 ACK를 보낸 후, 통신이 끝날 때까지 기다린다.\n",
    "3. 통신이 끝났으면 클라이언트에게 FIN 플래그를 전송한다.\n",
    "4. 클라이언트가 서버로 ACK 를 전송한다."
   ]
  }
 ],
 "metadata": {
  "kernelspec": {
   "display_name": "JavaScript (Node.js)",
   "language": "javascript",
   "name": "javascript"
  },
  "language_info": {
   "file_extension": ".js",
   "mimetype": "application/javascript",
   "name": "javascript",
   "version": "16.19.1"
  }
 },
 "nbformat": 4,
 "nbformat_minor": 5
}
